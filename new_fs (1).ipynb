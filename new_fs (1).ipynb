{
 "cells": [
  {
   "cell_type": "code",
   "execution_count": 80,
   "metadata": {},
   "outputs": [],
   "source": [
    "import numpy as np\n",
    "import matplotlib.pyplot as plt\n",
    "import os\n",
    "import random\n",
    "import librosa\n",
    "import sklearn\n",
    "from sklearn import svm\n",
    "from sklearn.model_selection import train_test_split\n",
    "from sklearn.metrics import accuracy_score\n",
    "from sklearn.neural_network import MLPClassifier\n",
    "from sklearn.metrics import classification_report, confusion_matrix\n",
    "from sklearn.model_selection import cross_val_score\n",
    "from mlxtend.plotting import plot_sequential_feature_selection as plot_sfs\n",
    "from sklearn.preprocessing import StandardScaler\n",
    "from matplotlib import style\n",
    "import pandas\n",
    "from sklearn.ensemble import RandomForestClassifier as RFC\n",
    "import seaborn as sns\n",
    "from sklearn.neighbors import KNeighborsClassifier\n",
    "from sklearn.model_selection import GridSearchCV\n",
    "from sklearn.pipeline import Pipeline\n",
    "import csv\n",
    "from sklearn import svm\n",
    "import itertools\n",
    "from mlxtend.feature_selection import SequentialFeatureSelector as SFS\n",
    "import pandas as pd\n",
    "from scipy.special import comb\n",
    "from sklearn.feature_selection import SelectKBest\n",
    "from sklearn.feature_selection import chi2\n",
    "from sklearn.feature_selection import f_classif, mutual_info_classif, SelectPercentile, GenericUnivariateSelect\n",
    "from sklearn.feature_selection import RFE\n",
    "from sklearn.linear_model import LogisticRegression\n",
    "from scipy.stats import rankdata"
   ]
  },
  {
   "cell_type": "code",
   "execution_count": 92,
   "metadata": {},
   "outputs": [],
   "source": [
    "DATADIR = \"/Users/yash_/Documents/project/t_overlap=0.25\"\n",
    "CATEGORIES = [\"Segmented_Laugh\", \"Segmented_NonLaugh\"]"
   ]
  },
  {
   "cell_type": "markdown",
   "metadata": {},
   "source": [
    "# Defining Functions"
   ]
  },
  {
   "cell_type": "code",
   "execution_count": 93,
   "metadata": {},
   "outputs": [],
   "source": [
    "def createcombinations(n):\n",
    "    elements = [0,1,2,3,4,5,6,7,8,9,10,11,12,13,14,15,16,17,18,19]\n",
    "    a = list(itertools.combinations(elements, n))\n",
    "    a = np.asarray(a).astype(int)\n",
    "    return a"
   ]
  },
  {
   "cell_type": "code",
   "execution_count": 94,
   "metadata": {},
   "outputs": [],
   "source": [
    "def create_training_data(t_frame, t_shift, n_mfccs, component, training_data, n_features):\n",
    "    count=0\n",
    "    error_count = 0\n",
    "    laugh_counter = 0\n",
    "    nonlaugh_counter = 0\n",
    "    for category in CATEGORIES:\n",
    "        path = os.path.join(DATADIR, category) \n",
    "        class_num = CATEGORIES.index(category)\n",
    "        for aud in os.listdir(path):\n",
    "            if aud == '.DS_Store':\n",
    "                continue\n",
    "            \n",
    "            aud_array , sr = librosa.load(os.path.join(path,aud), sr=None)\n",
    "            count+=1\n",
    "\n",
    "            mfccs = []\n",
    "            \n",
    "            try:\n",
    "                mfcc = (librosa.feature.mfcc(aud_array, sr=sr,  n_mfcc=20,  win_length = int(sr*t_frame), hop_length = int(sr*t_shift))) \n",
    "                mfcc_temp = mfcc[component,:]\n",
    "                mfcc_temp_delta = librosa.feature.delta(mfcc_temp)\n",
    "                mfcc_temp_delta2 = librosa.feature.delta(mfcc_temp)\n",
    "                mean_mfccs = np.mean(np.asarray(mfcc_temp),axis = 1)\n",
    "                std_mfccs = np.std(np.asarray(mfcc_temp),axis = 1)\n",
    "                std_mfccs_delta = np.std(np.asarray(mfcc_temp_delta),axis = 1)\n",
    "                std_mfccs_delta2 = np.std(np.asarray(mfcc_temp_delta2),axis = 1)\n",
    "                \n",
    "                #var_mfccs = np.var(np.asarray(mfcc_temp), axis = 1)\n",
    "                \n",
    "                mfccs.append(mean_mfccs)\n",
    "                mfccs.append(std_mfccs)\n",
    "                mfccs.append(std_mfccs_delta)\n",
    "                mfccs.append(std_mfccs_delta2)\n",
    "                #mfccs.append(var_mfccs)\n",
    "                mfccs = np.asarray(mfccs).reshape(n_mfccs*n_features,1)\n",
    "                \n",
    "                training_data.append([mfccs.reshape(-1,1), class_num])\n",
    "                if category == 'Segmented_Laugh':\n",
    "                    laugh_counter +=1\n",
    "                else:\n",
    "                    nonlaugh_counter += 1\n",
    "                    if nonlaugh_counter >= laugh_counter:\n",
    "                        break\n",
    "\n",
    "            except ValueError:\n",
    "                pass\n",
    "            \n",
    "    return laugh_counter, nonlaugh_counter\n",
    "    "
   ]
  },
  {
   "cell_type": "markdown",
   "metadata": {},
   "source": [
    "# Main Loop"
   ]
  },
  {
   "cell_type": "code",
   "execution_count": 95,
   "metadata": {},
   "outputs": [],
   "source": [
    "def scaling(X,n_mfcc):\n",
    "    for i in range(n_mfcc):\n",
    "        X[:,i] = X[:,i]/(np.mean(X[:,i]))\n",
    "        \n",
    "\n",
    "    #X[:,1] = np.square(X[:,1])\n",
    "        \n",
    "    return X"
   ]
  },
  {
   "cell_type": "code",
   "execution_count": 96,
   "metadata": {},
   "outputs": [
    {
     "name": "stdout",
     "output_type": "stream",
     "text": [
      "2704 2704\n"
     ]
    }
   ],
   "source": [
    "n_features = 4\n",
    "t_frame = 0.025\n",
    "t_shift = 0.01\n",
    "n_mfcc = 20\n",
    "component = createcombinations(n_mfcc)\n",
    "\n",
    "for components in component:\n",
    "    training_data = []\n",
    "    laugh, nonlaugh = create_training_data(t_frame, t_shift, n_mfcc, components, training_data, n_features)\n",
    "    print(laugh, nonlaugh)\n",
    "    \n",
    "random.shuffle(training_data) \n",
    "X = []\n",
    "Y = []\n",
    "for features, label in training_data:\n",
    "    X.append(features)\n",
    "    Y.append(label)\n",
    "        \n",
    "X = np.array(X).reshape(-1,n_mfcc*n_features)\n",
    "Y = np.array(Y)\n",
    "X = scaling(X,n_mfcc)\n",
    "\n",
    "#X_train, X_test, y_train, y_test = train_test_split(\n",
    "         #X, Y, test_size=0.2, random_state=123)"
   ]
  },
  {
   "cell_type": "markdown",
   "metadata": {},
   "source": [
    " #Using SFS ( is forward = True ) and SBS ( if forward = False)"
   ]
  },
  {
   "cell_type": "code",
   "execution_count": null,
   "metadata": {},
   "outputs": [
    {
     "name": "stderr",
     "output_type": "stream",
     "text": [
      "[Parallel(n_jobs=1)]: Using backend SequentialBackend with 1 concurrent workers.\n",
      "[Parallel(n_jobs=1)]: Done   1 out of   1 | elapsed:    2.4s remaining:    0.0s\n"
     ]
    }
   ],
   "source": [
    "\n",
    "knn = svm.SVC(kernel='linear')\n",
    "\n",
    "sfs1 = SFS(estimator=knn, \n",
    "           k_features=20, \n",
    "           forward=True, # if forward = True then SFS otherwise SBS\n",
    "           floating=False, \n",
    "           verbose=2,\n",
    "           scoring='accuracy'\n",
    "       )\n",
    "\n",
    "\n",
    "sfs1 = sfs1.fit(X, Y)\n"
   ]
  },
  {
   "cell_type": "code",
   "execution_count": null,
   "metadata": {},
   "outputs": [],
   "source": [
    "df = pd.DataFrame.from_dict(sfs1.get_metric_dict()).T"
   ]
  },
  {
   "cell_type": "markdown",
   "metadata": {
    "scrolled": true
   },
   "source": [
    "####### Run Till Here ########"
   ]
  },
  {
   "cell_type": "code",
   "execution_count": null,
   "metadata": {},
   "outputs": [],
   "source": []
  },
  {
   "cell_type": "code",
   "execution_count": null,
   "metadata": {},
   "outputs": [],
   "source": [
    "\n",
    "index_0 = []\n",
    "index_1 = []\n",
    "result = []\n",
    "for i in range(len(gs.cv_results_['params'])):\n",
    "    dic = gs.cv_results_['params'][i].values()\n",
    "    lis = list(dic)\n",
    "    index_0.append(int(lis[0]))\n",
    "    result.append(float(gs.cv_results_['mean_test_score'][i]))\n",
    "    index_1.append(int(lis[1]))\n",
    "    \n"
   ]
  },
  {
   "cell_type": "code",
   "execution_count": null,
   "metadata": {},
   "outputs": [],
   "source": [
    "dataframe  = pd.DataFrame(columns=['sfs__estimator__n_neighbors','sfs__k_features','Test Accuracy'])\n",
    "dataframe['sfs__estimator__n_neighbors'] = np.array(index_0)\n",
    "dataframe['sfs__k_features'] = np.array(index_1)\n",
    "dataframe['Test Accuracy'] = np.array(result)"
   ]
  },
  {
   "cell_type": "code",
   "execution_count": null,
   "metadata": {},
   "outputs": [],
   "source": [
    "pipe.set_params(**gs.best_params_).fit(X_train, y_train)\n",
    "print('Best features:', pipe.steps[0][1].k_feature_idx_)"
   ]
  },
  {
   "cell_type": "code",
   "execution_count": null,
   "metadata": {},
   "outputs": [],
   "source": [
    "a = dataframe.to_csv('/Users/yash_/Documents/project/file1.csv')\n"
   ]
  },
  {
   "cell_type": "code",
   "execution_count": null,
   "metadata": {},
   "outputs": [],
   "source": [
    "a"
   ]
  },
  {
   "cell_type": "code",
   "execution_count": null,
   "metadata": {},
   "outputs": [],
   "source": [
    "style.use('dark_background')\n",
    "fig1 = plot_sfs(sfs1.get_metric_dict(), kind='std_dev')\n",
    "plt.title('Sequential Backward Selection (w. StdDev)')\n",
    "#plt.grid()\n",
    "plt.show()\n"
   ]
  },
  {
   "cell_type": "markdown",
   "metadata": {},
   "source": [
    "##########################################################################################################"
   ]
  },
  {
   "cell_type": "code",
   "execution_count": null,
   "metadata": {},
   "outputs": [],
   "source": []
  },
  {
   "cell_type": "code",
   "execution_count": null,
   "metadata": {},
   "outputs": [],
   "source": []
  },
  {
   "cell_type": "code",
   "execution_count": null,
   "metadata": {},
   "outputs": [],
   "source": [
    "test = SelectKBest(score_func=f_classif, k=5)\n",
    "fit = test.fit(np.abs(X), Y)\n",
    "np.set_printoptions(precision=3)\n",
    "fclass = fit.scores_\n",
    "\n",
    "test = SelectKBest(score_func=mutual_info_classif, k=5)\n",
    "fit = test.fit(np.abs(X), Y)\n",
    "np.set_printoptions(precision=3)\n",
    "mutual = fit.scores_"
   ]
  },
  {
   "cell_type": "code",
   "execution_count": null,
   "metadata": {},
   "outputs": [],
   "source": []
  },
  {
   "cell_type": "code",
   "execution_count": null,
   "metadata": {},
   "outputs": [],
   "source": [
    "row_list = [[\"MFCCs\", 'f_classif Score', 'Mutual Info Classif Score']]\n",
    "for i in range(20):\n",
    "    row_list.append([str(i) + ' delta2', np.int(fclass[i]), np.float(mutual[i])])\n",
    "    \n",
    "with open('MFCC_Delta2_' + str(n_mfcc) + '.csv', 'w', newline='') as file:\n",
    "    writer = csv.writer(file)\n",
    "    writer.writerows(row_list)\n",
    "\n"
   ]
  },
  {
   "cell_type": "code",
   "execution_count": null,
   "metadata": {},
   "outputs": [],
   "source": [
    "plt.plot(fit.scores_,'*')"
   ]
  },
  {
   "cell_type": "code",
   "execution_count": null,
   "metadata": {},
   "outputs": [],
   "source": [
    "rankdata(fit.scores_)"
   ]
  },
  {
   "cell_type": "code",
   "execution_count": null,
   "metadata": {},
   "outputs": [],
   "source": [
    "mean = []\n",
    "meanlaugh = []\n",
    "meannon = []\n",
    "std = []\n",
    "for i in range(20):\n",
    "    mean.append(np.mean(X[:,i]))\n",
    "    meanlaugh.append(np.mean(X[np.where(Y==0),i]))\n",
    "    meannon.append(np.mean(X[np.where(Y==1),i]))\n",
    "    std.append(np.std(X[:,i]))\n",
    "    print('i = ', i, 'Mean = ', mean[i], 'Laugh =', meanlaugh[i], 'Non=', meannon[i])"
   ]
  },
  {
   "cell_type": "code",
   "execution_count": null,
   "metadata": {},
   "outputs": [],
   "source": [
    "plt.figure(figsize=(20, 12))\n",
    "plt.plot(mean,'ko')\n",
    "plt.plot(meanlaugh,'r*')\n",
    "plt.plot(meannon,'r*')\n",
    "plt.plot(np.array(mean)+np.array(std),'b.')\n",
    "plt.plot(np.array(mean)-np.array(std),'b.')"
   ]
  },
  {
   "cell_type": "code",
   "execution_count": null,
   "metadata": {},
   "outputs": [],
   "source": [
    "plt.plot((X[np.where(Y==1),14]).T,'.')\n",
    "plt.plot((X[np.where(Y==0),14]).T,'.')"
   ]
  },
  {
   "cell_type": "code",
   "execution_count": null,
   "metadata": {},
   "outputs": [],
   "source": [
    "plt.plot(np.square(X[np.where(Y==1),12]).T,'.')\n",
    "plt.plot(np.square(X[np.where(Y==0),12]).T,'.')"
   ]
  },
  {
   "cell_type": "code",
   "execution_count": null,
   "metadata": {},
   "outputs": [],
   "source": [
    "plt.plot(X[np.where(Y==1),2].T,'.')\n",
    "plt.plot(X[np.where(Y==0),2].T,'.')\n",
    "\n",
    "plt.plot(X[np.where(Y==1),12].T,'.')\n",
    "plt.plot(X[np.where(Y==0),12].T,'.')"
   ]
  },
  {
   "cell_type": "code",
   "execution_count": null,
   "metadata": {},
   "outputs": [],
   "source": [
    "style.use('dark-background')\n",
    "plt.plot(X[np.where(Y==1),1].T,'.')\n",
    "plt.plot(X[np.where(Y==0),0].T,'.')"
   ]
  },
  {
   "cell_type": "code",
   "execution_count": null,
   "metadata": {},
   "outputs": [],
   "source": []
  }
 ],
 "metadata": {
  "kernelspec": {
   "display_name": "Python 3",
   "language": "python",
   "name": "python3"
  },
  "language_info": {
   "codemirror_mode": {
    "name": "ipython",
    "version": 3
   },
   "file_extension": ".py",
   "mimetype": "text/x-python",
   "name": "python",
   "nbconvert_exporter": "python",
   "pygments_lexer": "ipython3",
   "version": "3.7.6"
  }
 },
 "nbformat": 4,
 "nbformat_minor": 2
}
