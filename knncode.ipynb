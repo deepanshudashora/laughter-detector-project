{
 "cells": [
  {
   "cell_type": "code",
   "execution_count": null,
   "metadata": {},
   "outputs": [],
   "source": [
    "import numpy as np\n",
    "import matplotlib.pyplot as plt\n",
    "import os\n",
    "import random\n",
    "import librosa\n",
    "import sklearn\n",
    "from sklearn.model_selection import train_test_split\n",
    "from sklearn.metrics import accuracy_score\n",
    "from sklearn.metrics import classification_report, confusion_matrix\n",
    "from sklearn.model_selection import cross_val_score\n",
    "import pandas\n",
    "import seaborn as sns\n",
    "import csv\n",
    "import itertools\n",
    "import pandas as pd\n",
    "from scipy.special import comb"
   ]
  },
  {
   "cell_type": "code",
   "execution_count": null,
   "metadata": {},
   "outputs": [],
   "source": [
    "DATADIR = \"data\"\n",
    "CATEGORIES = [\"Segmented_Laugh\", \"Segmented_NonLaugh\"]"
   ]
  },
  {
   "cell_type": "code",
   "execution_count": null,
   "metadata": {},
   "outputs": [],
   "source": [
    "def createcombinations(n):\n",
    "    elements = [0,1,2,3,4,5]\n",
    "    a = list(itertools.combinations(elements, n))\n",
    "    a = np.asarray(a).astype(int)\n",
    "    return a"
   ]
  },
  {
   "cell_type": "code",
   "execution_count": null,
   "metadata": {},
   "outputs": [],
   "source": [
    "def create_training_data(t_frame, t_shift, n_mfccs, component, training_data, n_features):\n",
    "    count=0\n",
    "    error_count = 0\n",
    "    laugh_counter = 0\n",
    "    nonlaugh_counter = 0\n",
    "    for category in CATEGORIES:\n",
    "        path = os.path.join(DATADIR, category) \n",
    "        class_num = CATEGORIES.index(category)\n",
    "        for aud in os.listdir(path):\n",
    "            if aud == '.DS_Store':\n",
    "                continue\n",
    "            \n",
    "            aud_array , sr = librosa.load(os.path.join(path,aud), sr=None)\n",
    "            count+=1\n",
    "\n",
    "            mfccs = []\n",
    "            \n",
    "            try:\n",
    "                mfcc = (librosa.feature.mfcc(aud_array, sr=sr,  n_mfcc=6,  win_length = int(sr*t_frame), hop_length = int(sr*t_shift))) \n",
    "                mfcc_temp = mfcc[component,:]\n",
    "                mean_mfccs = np.mean(np.asarray(mfcc_temp),axis = 1)\n",
    "                var_mfccs = np.var(np.asarray(mfcc_temp), axis = 1)\n",
    "                \n",
    "                mfccs.append(mean_mfccs)\n",
    "                mfccs.append(var_mfccs)\n",
    "                mfccs = np.asarray(mfccs).reshape(n_mfccs*n_features,1)\n",
    "                \n",
    "                training_data.append([mfccs.reshape(-1,1), class_num])\n",
    "                if category == 'Segmented_Laugh':\n",
    "                    laugh_counter +=1\n",
    "                else:\n",
    "                    nonlaugh_counter += 1\n",
    "\n",
    "            except ValueError:\n",
    "                pass\n",
    "    "
   ]
  },
  {
   "cell_type": "code",
   "execution_count": null,
   "metadata": {},
   "outputs": [],
   "source": [
    "def createaccuracy(file, n_iterations):\n",
    "    with open('data/knn/knn' + str(file) + '.csv', 'r') as f:\n",
    "        file_lines = f.readlines()\n",
    "\n",
    "    keymap =  pd.DataFrame([string.split(',') for string in file_lines])\n",
    "    keymap_np = keymap.to_numpy()\n",
    "\n",
    "    row_list = [[\"MFCCs\", \"Mean_Accuracy\", \"STD_Accuracy\"]]\n",
    "    for i in range(int(comb(6, file , exact=False))):\n",
    "        accuracy = []\n",
    "        for j in range(n_iterations):\n",
    "            accuracy.append(float(keymap_np[n_iterations*i+1+j,5]))\n",
    "    \n",
    "        mean_accuracy = np.mean(np.asarray(accuracy))\n",
    "        std_accuracy = np.std(np.asarray(accuracy))\n",
    "    \n",
    "        row_list.append([keymap_np[n_iterations*i+1,0], mean_accuracy, std_accuracy])\n",
    "\n",
    "    with open('data/knn/knnAccuracy' + str(file) + '.csv', 'w', newline='') as newfile:\n",
    "        writer = csv.writer(newfile)\n",
    "        writer.writerows(row_list)\n",
    "    "
   ]
  },
  {
   "cell_type": "code",
   "execution_count": 6,
   "metadata": {},
   "outputs": [
    {
     "name": "stdout",
     "output_type": "stream",
     "text": [
      "n_mfcc =  2\n",
      "n_mfcc =  3\n",
      "n_mfcc =  4\n",
      "n_mfcc =  5\n",
      "n_mfcc =  6\n"
     ]
    }
   ],
   "source": [
    "#Choose these parameters. Calculates results for combinations of mfccs, from 0-9, taken n_mfcc at a time.\n",
    "n_iterations = 10\n",
    "for n_mfcc in range(2,7):\n",
    "    print(\"n_mfcc = \", n_mfcc)\n",
    "    \n",
    "    n_features = 2\n",
    "    component = createcombinations(n_mfcc)\n",
    "    t_frame = 0.025\n",
    "    t_shift = 0.01\n",
    "    \n",
    "    row_list = [[\"MFCCs\", \"Actual(0)Predicted(0)\", \"Actual(0)Predicted(1)\", \"Actual(1)Predicted(0)\", \"Actual(1)Predicted(1)\",\"Accuracy\",\"(0) f1\", \"(0) Precision\", \"(0) Recall\",\"(1) f1\", \"(1) Precision\", \"(1) Recall\", \"Number of Entries (0)\", \"Number of Entries (1)\",  ]]\n",
    "    \n",
    "    for components in component:\n",
    "        #print(\"For Components \", components)\n",
    "        #print(\"Loading Data....\")\n",
    "        training_data = []\n",
    "        create_training_data(t_frame, t_shift, n_mfcc, components, training_data, n_features)\n",
    "    \n",
    "        #print(\"PreProcessing Data....\")\n",
    "        random.shuffle(training_data) \n",
    "        X = []\n",
    "        Y = []\n",
    "        for features, label in training_data:\n",
    "            X.append(features)\n",
    "            Y.append(label)\n",
    "        \n",
    "        X = np.array(X).reshape(-1,n_mfcc*n_features)\n",
    "        Y = np.array(Y)\n",
    "        X = X/100\n",
    "    \n",
    "        #print(\"Running Classifier....\")\n",
    "        for i in range(n_iterations):\n",
    "            X_train, X_test, y_train, y_test = train_test_split(X, Y, test_size=0.1) \n",
    "            from sklearn.neighbors import KNeighborsClassifier\n",
    "            knn = KNeighborsClassifier()\n",
    "            knn.fit(X_train,y_train)\n",
    "            y_pred = knn.predict(X_test)\n",
    "    \n",
    "            cmatrix = confusion_matrix(y_test,y_pred, labels=[0,1])\n",
    "            report = classification_report(y_test, y_pred, output_dict=True)\n",
    "            df = pandas.DataFrame(report).transpose()\n",
    "            creport = df.to_numpy()\n",
    "    \n",
    "            row_list.append([components, cmatrix[0,0], cmatrix[0,1], cmatrix[1,0], cmatrix[1,1], creport[2,1], creport[0,0], creport[0,1], creport[0,2], creport[1,0], creport[1,1], creport[1,2],  creport[0,3], creport[1,3]]) \n",
    "        #print(\" \")\n",
    "    \n",
    "    #Writing your results into a file\n",
    "    with open('data/knn/knn' + str(n_mfcc) + '.csv', 'w', newline='') as file:\n",
    "        writer = csv.writer(file)\n",
    "        writer.writerows(row_list)\n",
    "\n",
    "    createaccuracy(n_mfcc, n_iterations)  "
   ]
  },
  {
   "cell_type": "code",
   "execution_count": null,
   "metadata": {},
   "outputs": [],
   "source": []
  },
  {
   "cell_type": "code",
   "execution_count": null,
   "metadata": {},
   "outputs": [],
   "source": []
  },
  {
   "cell_type": "code",
   "execution_count": null,
   "metadata": {},
   "outputs": [],
   "source": []
  }
 ],
 "metadata": {
  "kernelspec": {
   "display_name": "Python 3",
   "language": "python",
   "name": "python3"
  },
  "language_info": {
   "codemirror_mode": {
    "name": "ipython",
    "version": 3
   },
   "file_extension": ".py",
   "mimetype": "text/x-python",
   "name": "python",
   "nbconvert_exporter": "python",
   "pygments_lexer": "ipython3",
   "version": "3.7.5"
  }
 },
 "nbformat": 4,
 "nbformat_minor": 2
}
